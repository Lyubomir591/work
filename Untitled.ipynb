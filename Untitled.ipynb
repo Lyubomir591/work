{
 "cells": [
  {
   "cell_type": "code",
   "execution_count": 32,
   "id": "05b4e09b",
   "metadata": {},
   "outputs": [
    {
     "name": "stdout",
     "output_type": "stream",
     "text": [
      "{'one': 1, 'two': 2, 'three': 3, 'foir': 4, 'five': 5, 'six': 6}\n"
     ]
    }
   ],
   "source": [
    "dict1 = {\"one\":1,\"two\":2, \"three\":3,}\n",
    "dict2 = {\"foir\":4, \"five\":5, \"six\":6,}\n",
    "dict1.update(dict2)\n",
    "\n",
    "def unification (dict1:dict1 , dict2:dict2):\n",
    "      dict1.update(dict2)\n",
    "      return dict1\n",
    "p = unification(dict1,dict2)\n",
    "print(p)"
   ]
  },
  {
   "cell_type": "code",
   "execution_count": 41,
   "id": "10da0077",
   "metadata": {},
   "outputs": [
    {
     "name": "stdout",
     "output_type": "stream",
     "text": [
      "{'one': 1, 'two': 2, 'three': 3, 'foure': 4}\n"
     ]
    }
   ],
   "source": [
    "keys = ['one', 'two','three','foure']\n",
    "values = [1,2,3,]\n",
    "def book_dict (arg1,arg2):\n",
    "    myDict = {i: a for  i,a in zip(arg1,arg2)}\n",
    "    return myDict\n",
    "    \n",
    "c= book_dict(keys,values)    \n",
    "print(c)"
   ]
  },
  {
   "cell_type": "code",
   "execution_count": 97,
   "id": "92de5153",
   "metadata": {},
   "outputs": [
    {
     "name": "stdout",
     "output_type": "stream",
     "text": [
      "['name', 'age', 'salary', 'city', 'gender']\n",
      "{'name': 'John', 'age': 25, 'salary': 5000, 'city': 'Moscov', 'gender': None}\n"
     ]
    }
   ],
   "source": [
    "client_dict={\n",
    "    \"name\" : \"John\",\n",
    "    \"age\": 25,\n",
    "    \"salary\": 5000,\n",
    "    \"city\": \"Moscov\"\n",
    "}\n",
    "keys = [i  for i , x in client_dict.items()]\n",
    "keys.append(\"gender\")\n",
    "print(keys)\n",
    "def function_dict(a: dict , keys: list) -> dict[str:int] :\n",
    "    result={}\n",
    "    for i in range(len(keys)):\n",
    "        result[keys[i]]= a.get(keys[i])\n",
    "    \n",
    "    return result \n",
    "p = function_dict(client_dict, keys)\n",
    "print(p)"
   ]
  },
  {
   "cell_type": "code",
   "execution_count": null,
   "id": "ce886c86",
   "metadata": {},
   "outputs": [],
   "source": []
  },
  {
   "cell_type": "code",
   "execution_count": 91,
   "id": "128c57fc",
   "metadata": {},
   "outputs": [
    {
     "name": "stdout",
     "output_type": "stream",
     "text": [
      "{'name': 'John', 'age': 25, 'salary': 5000, 'city': 'Moscov'}\n"
     ]
    }
   ],
   "source": [
    "def function_dict(a):\n",
    "    print(a)\n",
    "function_dict(client_dict)"
   ]
  },
  {
   "cell_type": "code",
   "execution_count": 92,
   "id": "2553d377",
   "metadata": {},
   "outputs": [
    {
     "name": "stdout",
     "output_type": "stream",
     "text": [
      "{'name': 'John', 'age': 25, 'salary': 5000, 'city': 'Moscov'}\n"
     ]
    }
   ],
   "source": [
    "function_dict(client_dict)"
   ]
  },
  {
   "cell_type": "code",
   "execution_count": null,
   "id": "be045a65",
   "metadata": {},
   "outputs": [],
   "source": []
  },
  {
   "cell_type": "code",
   "execution_count": 100,
   "id": "a54313bf",
   "metadata": {},
   "outputs": [
    {
     "ename": "SyntaxError",
     "evalue": "invalid syntax. Maybe you meant '==' or ':=' instead of '='? (3339950942.py, line 2)",
     "output_type": "error",
     "traceback": [
      "\u001b[1;36m  Cell \u001b[1;32mIn[100], line 2\u001b[1;36m\u001b[0m\n\u001b[1;33m    arr = [ i = random.randint(1,101) for i in range(5) ]\u001b[0m\n\u001b[1;37m            ^\u001b[0m\n\u001b[1;31mSyntaxError\u001b[0m\u001b[1;31m:\u001b[0m invalid syntax. Maybe you meant '==' or ':=' instead of '='?\n"
     ]
    }
   ],
   "source": [
    "import random\n",
    "arr = [ i for i in range(5) random.randint(1,101)]\n",
    "print (arr)"
   ]
  },
  {
   "cell_type": "code",
   "execution_count": null,
   "id": "bdcbcc8b",
   "metadata": {},
   "outputs": [],
   "source": []
  },
  {
   "cell_type": "code",
   "execution_count": null,
   "id": "0c38ff2f",
   "metadata": {},
   "outputs": [],
   "source": []
  },
  {
   "cell_type": "code",
   "execution_count": null,
   "id": "ebd31780",
   "metadata": {},
   "outputs": [],
   "source": []
  },
  {
   "cell_type": "code",
   "execution_count": null,
   "id": "98e3b68d",
   "metadata": {},
   "outputs": [],
   "source": []
  }
 ],
 "metadata": {
  "kernelspec": {
   "display_name": "Python 3 (ipykernel)",
   "language": "python",
   "name": "python3"
  },
  "language_info": {
   "codemirror_mode": {
    "name": "ipython",
    "version": 3
   },
   "file_extension": ".py",
   "mimetype": "text/x-python",
   "name": "python",
   "nbconvert_exporter": "python",
   "pygments_lexer": "ipython3",
   "version": "3.10.9"
  }
 },
 "nbformat": 4,
 "nbformat_minor": 5
}
